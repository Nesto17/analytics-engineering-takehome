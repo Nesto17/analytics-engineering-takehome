{
 "cells": [
  {
   "cell_type": "code",
   "execution_count": 20,
   "metadata": {},
   "outputs": [],
   "source": [
    "import gzip\n",
    "import json\n",
    "import pandas as pd\n",
    "\n",
    "pd.set_option('display.max_columns', None)\n",
    "pd.set_option('display.max_rows', None)"
   ]
  },
  {
   "cell_type": "code",
   "execution_count": 21,
   "metadata": {},
   "outputs": [
    {
     "name": "stdout",
     "output_type": "stream",
     "text": [
      "Error decoding JSON in ./data/users.json.gz: Expecting value: line 1 column 1 (char 0) - Line: users.json\u0000\u0000\u0000\u0000\u0000\u0000\u0000\u0000\u0000\u0000\u0000\u0000\u0000\u0000\u0000\u0000\u0000\u0000\u0000\u0000\u0000\u0000\u0000\u0000\u0000\u0000\u0000\u0000\u0000\u0000\u0000\u0000\u0000\u0000\u0000\u0000\u0000\u0000\u0000\u0000\u0000\u0000\u0000\u0000\u0000\u0000\u0000\u0000\u0000\u0000\u0000\u0000\u0000\u0000\u0000\u0000\u0000\u0000\u0000\u0000\u0000\u0000\u0000\u0000\u0000\u0000\u0000\u0000\u0000\u0000\u0000\u0000\u0000\u0000\u0000\u0000\u0000\u0000\u0000\u0000\u0000\u0000\u0000\u0000\u0000\u0000\u0000\u0000\u0000\u00000100777\u00000000000\u00000000000\u000000000254301\u000014567170355\u0000010072\u0000 0\u0000\u0000\u0000\u0000\u0000\u0000\u0000\u0000\u0000\u0000\u0000\u0000\u0000\u0000\u0000\u0000\u0000\u0000\u0000\u0000\u0000\u0000\u0000\u0000\u0000\u0000\u0000\u0000\u0000\u0000\u0000\u0000\u0000\u0000\u0000\u0000\u0000\u0000\u0000\u0000\u0000\u0000\u0000\u0000\u0000\u0000\u0000\u0000\u0000\u0000\u0000\u0000\u0000\u0000\u0000\u0000\u0000\u0000\u0000\u0000\u0000\u0000\u0000\u0000\u0000\u0000\u0000\u0000\u0000\u0000\u0000\u0000\u0000\u0000\u0000\u0000\u0000\u0000\u0000\u0000\u0000\u0000\u0000\u0000\u0000\u0000\u0000\u0000\u0000\u0000\u0000\u0000\u0000\u0000\u0000\u0000\u0000\u0000\u0000\u0000ustar\u000000\u0000\u0000\u0000\u0000\u0000\u0000\u0000\u0000\u0000\u0000\u0000\u0000\u0000\u0000\u0000\u0000\u0000\u0000\u0000\u0000\u0000\u0000\u0000\u0000\u0000\u0000\u0000\u0000\u0000\u0000\u0000\u0000\u0000\u0000\u0000\u0000\u0000\u0000\u0000\u0000\u0000\u0000\u0000\u0000\u0000\u0000\u0000\u0000\u0000\u0000\u0000\u0000\u0000\u0000\u0000\u0000\u0000\u0000\u0000\u0000\u0000\u0000\u0000\u0000\u0000\u0000\u0000\u0000\u0000\u0000\u0000\u0000\u0000\u0000\u0000\u0000\u0000\u0000\u0000\u0000\u0000\u0000\u0000\u0000\u0000\u0000\u0000\u0000\u0000\u0000\u0000\u0000\u0000\u0000\u0000\u0000\u0000\u0000\u0000\u0000\u0000\u0000\u0000\u0000\u0000\u0000\u0000\u0000\u0000\u0000\u0000\u0000\u0000\u0000\u0000\u0000\u0000\u0000\u0000\u0000\u0000\u0000\u0000\u0000\u0000\u0000\u0000\u0000\u0000\u0000\u0000\u0000\u0000\u0000\u0000\u0000\u0000\u0000\u0000\u0000\u0000\u0000\u0000\u0000\u0000\u0000\u0000\u0000\u0000\u0000\u0000\u0000\u0000\u0000\u0000\u0000\u0000\u0000\u0000\u0000\u0000\u0000\u0000\u0000\u0000\u0000\u0000\u0000\u0000\u0000\u0000\u0000\u0000\u0000\u0000\u0000\u0000\u0000\u0000\u0000\u0000\u0000\u0000\u0000\u0000\u0000\u0000\u0000\u0000\u0000\u0000\u0000\u0000\u0000\u0000\u0000\u0000\u0000\u0000\u0000\u0000\u0000\u0000\u0000\u0000\u0000\u0000\u0000\u0000\u0000\u0000\u0000\u0000\u0000\u0000\u0000\u0000\u0000\u0000\u0000\u0000\u0000\u0000\u0000\u0000\u0000\u0000\u0000\u0000\u0000\u0000\u0000\u0000\u0000\u0000\u0000\u0000\u0000\u0000\u0000\u0000\u0000\u0000\u0000\u0000\u0000\u0000{\"_id\":{\"$oid\":\"5ff1e194b6a9d73a3a9f1052\"},\"active\":true,\"createdDate\":{\"$date\":1609687444800},\"lastLogin\":{\"$date\":1609687537858},\"role\":\"consumer\",\"signUpSource\":\"Email\",\"state\":\"WI\"}\n",
      "Error decoding JSON in ./data/users.json.gz: Expecting value: line 1 column 1 (char 0) - Line: \u0000\u0000\u0000\u0000\u0000\u0000\u0000\u0000\u0000\u0000\u0000\u0000\u0000\u0000\u0000\u0000\u0000\u0000\u0000\u0000\u0000\u0000\u0000\u0000\u0000\u0000\u0000\u0000\u0000\u0000\u0000\u0000\u0000\u0000\u0000\u0000\u0000\u0000\u0000\u0000\u0000\u0000\u0000\u0000\u0000\u0000\u0000\u0000\u0000\u0000\u0000\u0000\u0000\u0000\u0000\u0000\u0000\u0000\u0000\u0000\u0000\u0000\u0000\u0000\u0000\u0000\u0000\u0000\u0000\u0000\u0000\u0000\u0000\u0000\u0000\u0000\u0000\u0000\u0000\u0000\u0000\u0000\u0000\u0000\u0000\u0000\u0000\u0000\u0000\u0000\u0000\u0000\u0000\u0000\u0000\u0000\u0000\u0000\u0000\u0000\u0000\u0000\u0000\u0000\u0000\u0000\u0000\u0000\u0000\u0000\u0000\u0000\u0000\u0000\u0000\u0000\u0000\u0000\u0000\u0000\u0000\u0000\u0000\u0000\u0000\u0000\u0000\u0000\u0000\u0000\u0000\u0000\u0000\u0000\u0000\u0000\u0000\u0000\u0000\u0000\u0000\u0000\u0000\u0000\u0000\u0000\u0000\u0000\u0000\u0000\u0000\u0000\u0000\u0000\u0000\u0000\u0000\u0000\u0000\u0000\u0000\u0000\u0000\u0000\u0000\u0000\u0000\u0000\u0000\u0000\u0000\u0000\u0000\u0000\u0000\u0000\u0000\u0000\u0000\u0000\u0000\u0000\u0000\u0000\u0000\u0000\u0000\u0000\u0000\u0000\u0000\u0000\u0000\u0000\u0000\u0000\u0000\u0000\u0000\u0000\u0000\u0000\u0000\u0000\u0000\u0000\u0000\u0000\u0000\u0000\u0000\u0000\u0000\u0000\u0000\u0000\u0000\u0000\u0000\u0000\u0000\u0000\u0000\u0000\u0000\u0000\u0000\u0000\u0000\u0000\u0000\u0000\u0000\u0000\u0000\u0000\u0000\u0000\u0000\u0000\u0000\u0000\u0000\u0000\u0000\u0000\u0000\u0000\u0000\u0000\u0000\u0000\u0000\u0000\u0000\u0000\u0000\u0000\u0000\u0000\u0000\u0000\u0000\u0000\u0000\u0000\u0000\u0000\u0000\u0000\u0000\u0000\u0000\u0000\u0000\u0000\u0000\u0000\u0000\u0000\u0000\u0000\u0000\u0000\u0000\u0000\u0000\u0000\u0000\u0000\u0000\u0000\u0000\u0000\u0000\u0000\u0000\u0000\u0000\u0000\u0000\u0000\u0000\u0000\u0000\u0000\u0000\u0000\u0000\u0000\u0000\u0000\u0000\u0000\u0000\u0000\u0000\u0000\u0000\u0000\u0000\u0000\u0000\u0000\u0000\u0000\u0000\u0000\u0000\u0000\u0000\u0000\u0000\u0000\u0000\u0000\u0000\u0000\u0000\u0000\u0000\u0000\u0000\u0000\u0000\u0000\u0000\u0000\u0000\u0000\u0000\u0000\u0000\u0000\u0000\u0000\u0000\u0000\u0000\u0000\u0000\u0000\u0000\u0000\u0000\u0000\u0000\u0000\u0000\u0000\u0000\u0000\u0000\u0000\u0000\u0000\u0000\u0000\u0000\u0000\u0000\u0000\u0000\u0000\u0000\u0000\u0000\u0000\u0000\u0000\u0000\u0000\u0000\u0000\u0000\u0000\u0000\u0000\u0000\u0000\u0000\u0000\u0000\u0000\u0000\u0000\u0000\u0000\u0000\u0000\u0000\u0000\u0000\u0000\u0000\u0000\u0000\u0000\u0000\u0000\u0000\u0000\u0000\u0000\u0000\u0000\u0000\u0000\u0000\u0000\u0000\u0000\u0000\u0000\u0000\u0000\u0000\u0000\u0000\u0000\u0000\u0000\u0000\u0000\u0000\u0000\u0000\u0000\u0000\u0000\u0000\u0000\u0000\u0000\u0000\u0000\u0000\u0000\u0000\u0000\u0000\u0000\u0000\u0000\u0000\u0000\u0000\u0000\u0000\u0000\u0000\u0000\u0000\u0000\u0000\u0000\u0000\u0000\u0000\u0000\u0000\u0000\u0000\u0000\u0000\u0000\u0000\u0000\u0000\u0000\u0000\u0000\u0000\u0000\u0000\u0000\u0000\u0000\u0000\u0000\u0000\u0000\u0000\u0000\u0000\u0000\u0000\u0000\u0000\u0000\u0000\u0000\u0000\u0000\u0000\u0000\u0000\u0000\u0000\u0000\u0000\u0000\u0000\u0000\u0000\u0000\u0000\u0000\u0000\u0000\u0000\u0000\u0000\u0000\u0000\u0000\u0000\u0000\u0000\u0000\u0000\u0000\u0000\u0000\u0000\u0000\u0000\u0000\u0000\u0000\u0000\u0000\u0000\u0000\u0000\u0000\u0000\u0000\u0000\u0000\u0000\u0000\u0000\u0000\u0000\u0000\u0000\u0000\u0000\u0000\u0000\u0000\u0000\u0000\u0000\u0000\u0000\u0000\u0000\u0000\u0000\u0000\u0000\u0000\u0000\u0000\u0000\u0000\u0000\u0000\u0000\u0000\u0000\u0000\u0000\u0000\u0000\u0000\u0000\u0000\u0000\u0000\u0000\u0000\u0000\u0000\u0000\u0000\u0000\u0000\u0000\u0000\u0000\u0000\u0000\u0000\u0000\u0000\u0000\u0000\u0000\u0000\u0000\u0000\u0000\u0000\u0000\u0000\u0000\u0000\u0000\u0000\u0000\u0000\u0000\u0000\u0000\u0000\u0000\u0000\u0000\u0000\u0000\u0000\u0000\u0000\u0000\u0000\u0000\u0000\u0000\u0000\u0000\u0000\u0000\u0000\u0000\u0000\u0000\u0000\u0000\u0000\u0000\u0000\u0000\u0000\u0000\u0000\u0000\u0000\u0000\u0000\u0000\u0000\u0000\u0000\u0000\u0000\u0000\u0000\u0000\u0000\u0000\u0000\u0000\u0000\u0000\u0000\u0000\u0000\u0000\u0000\u0000\u0000\u0000\u0000\u0000\u0000\u0000\u0000\u0000\u0000\u0000\u0000\u0000\u0000\u0000\u0000\u0000\u0000\u0000\u0000\u0000\u0000\u0000\u0000\u0000\u0000\u0000\u0000\u0000\u0000\u0000\u0000\u0000\u0000\u0000\u0000\u0000\u0000\u0000\u0000\u0000\u0000\u0000\u0000\u0000\u0000\u0000\u0000\u0000\u0000\u0000\u0000\u0000\u0000\u0000\u0000\u0000\u0000\u0000\u0000\u0000\u0000\u0000\u0000\u0000\u0000\u0000\u0000\u0000\u0000\u0000\u0000\u0000\u0000\u0000\u0000\u0000\u0000\u0000\u0000\u0000\u0000\u0000\u0000\u0000\u0000\u0000\u0000\u0000\u0000\u0000\u0000\u0000\u0000\u0000\u0000\u0000\u0000\u0000\u0000\u0000\u0000\u0000\u0000\u0000\u0000\u0000\u0000\u0000\u0000\u0000\u0000\u0000\u0000\u0000\u0000\u0000\u0000\u0000\u0000\u0000\u0000\u0000\u0000\u0000\u0000\u0000\u0000\u0000\u0000\u0000\u0000\u0000\u0000\u0000\u0000\u0000\u0000\u0000\u0000\u0000\u0000\u0000\u0000\u0000\u0000\u0000\u0000\u0000\u0000\u0000\u0000\u0000\u0000\u0000\u0000\u0000\u0000\u0000\u0000\u0000\u0000\u0000\u0000\u0000\u0000\u0000\u0000\u0000\u0000\u0000\u0000\u0000\u0000\u0000\u0000\u0000\u0000\u0000\u0000\u0000\u0000\u0000\u0000\u0000\u0000\u0000\u0000\u0000\u0000\u0000\u0000\u0000\u0000\u0000\u0000\u0000\u0000\u0000\u0000\u0000\u0000\u0000\u0000\u0000\u0000\u0000\u0000\u0000\u0000\u0000\u0000\u0000\u0000\u0000\u0000\u0000\u0000\u0000\u0000\u0000\u0000\u0000\u0000\u0000\u0000\u0000\u0000\u0000\u0000\u0000\u0000\u0000\u0000\u0000\u0000\u0000\u0000\u0000\u0000\u0000\u0000\u0000\u0000\u0000\u0000\u0000\u0000\u0000\u0000\u0000\u0000\u0000\u0000\u0000\u0000\u0000\u0000\u0000\u0000\u0000\u0000\u0000\u0000\u0000\u0000\u0000\u0000\u0000\u0000\u0000\u0000\u0000\u0000\u0000\u0000\u0000\u0000\u0000\u0000\u0000\u0000\u0000\u0000\u0000\u0000\u0000\u0000\u0000\u0000\u0000\u0000\u0000\u0000\u0000\u0000\u0000\u0000\u0000\u0000\u0000\u0000\u0000\u0000\u0000\u0000\u0000\u0000\u0000\u0000\u0000\u0000\u0000\u0000\u0000\u0000\u0000\u0000\u0000\u0000\u0000\u0000\u0000\u0000\u0000\u0000\u0000\u0000\u0000\u0000\u0000\u0000\u0000\u0000\u0000\u0000\u0000\u0000\u0000\u0000\u0000\u0000\u0000\u0000\u0000\u0000\u0000\u0000\u0000\u0000\u0000\u0000\u0000\u0000\u0000\u0000\u0000\u0000\u0000\u0000\u0000\u0000\u0000\u0000\u0000\u0000\u0000\u0000\u0000\u0000\u0000\u0000\u0000\u0000\u0000\u0000\u0000\u0000\u0000\u0000\u0000\u0000\u0000\u0000\u0000\u0000\u0000\u0000\u0000\u0000\u0000\u0000\u0000\u0000\u0000\u0000\u0000\u0000\u0000\u0000\u0000\u0000\u0000\u0000\u0000\u0000\u0000\u0000\u0000\u0000\u0000\u0000\u0000\u0000\u0000\u0000\u0000\u0000\u0000\u0000\u0000\u0000\u0000\u0000\u0000\u0000\u0000\u0000\u0000\u0000\u0000\u0000\u0000\u0000\u0000\u0000\u0000\u0000\u0000\u0000\u0000\u0000\u0000\u0000\u0000\u0000\u0000\u0000\u0000\u0000\u0000\u0000\u0000\u0000\u0000\u0000\u0000\u0000\u0000\u0000\u0000\u0000\u0000\u0000\u0000\u0000\u0000\u0000\u0000\u0000\u0000\u0000\u0000\u0000\u0000\u0000\u0000\u0000\u0000\u0000\u0000\u0000\u0000\u0000\u0000\u0000\u0000\u0000\u0000\u0000\u0000\u0000\u0000\u0000\u0000\u0000\u0000\u0000\u0000\u0000\u0000\u0000\u0000\u0000\u0000\u0000\u0000\u0000\u0000\u0000\u0000\u0000\u0000\u0000\u0000\u0000\u0000\u0000\u0000\u0000\u0000\u0000\u0000\u0000\u0000\u0000\u0000\u0000\u0000\u0000\u0000\u0000\u0000\u0000\u0000\u0000\u0000\u0000\u0000\u0000\u0000\u0000\u0000\u0000\u0000\u0000\u0000\u0000\u0000\u0000\u0000\u0000\u0000\u0000\u0000\u0000\u0000\u0000\u0000\u0000\u0000\u0000\u0000\u0000\u0000\u0000\u0000\u0000\u0000\u0000\u0000\u0000\u0000\u0000\u0000\u0000\u0000\u0000\u0000\u0000\u0000\u0000\u0000\u0000\u0000\u0000\u0000\u0000\u0000\u0000\u0000\u0000\u0000\u0000\u0000\u0000\u0000\u0000\u0000\u0000\u0000\u0000\u0000\u0000\u0000\u0000\u0000\u0000\u0000\u0000\u0000\u0000\u0000\u0000\u0000\u0000\u0000\u0000\u0000\u0000\u0000\u0000\u0000\u0000\u0000\u0000\u0000\u0000\u0000\u0000\u0000\u0000\u0000\u0000\u0000\u0000\u0000\u0000\u0000\u0000\u0000\u0000\u0000\u0000\u0000\u0000\u0000\u0000\u0000\u0000\u0000\n"
     ]
    }
   ],
   "source": [
    "brands = []\n",
    "receipts = []\n",
    "users = []\n",
    "\n",
    "def load_json_lines(file_path, data_list):\n",
    "    with gzip.open(file_path, 'rt', encoding='utf-8') as f:\n",
    "        for line in f:\n",
    "            line = line.strip() \n",
    "            if line: \n",
    "                try:\n",
    "                    data_list.append(json.loads(line))\n",
    "                except json.JSONDecodeError as e:\n",
    "                    print(f\"Error decoding JSON in {file_path}: {e} - Line: {line}\")\n",
    "\n",
    "load_json_lines('./data/brands.json.gz', brands)\n",
    "load_json_lines('./data/receipts.json.gz', receipts)\n",
    "load_json_lines('./data/users.json.gz', users)"
   ]
  },
  {
   "cell_type": "markdown",
   "metadata": {},
   "source": [
    "### Connecting Brands and ReceiptItems\n",
    "\n",
    "An issue that I found is that there's no clear reference between `brands` and `receiptItems`. Therefore, it's important to find a unique key in `brands` that is also present in `receiptItems`"
   ]
  },
  {
   "cell_type": "code",
   "execution_count": 22,
   "metadata": {},
   "outputs": [],
   "source": [
    "unique_barcodes = set()\n",
    "duped_barcodes = []\n",
    "\n",
    "for brand in brands:\n",
    "    if brand['barcode'] in unique_barcodes:\n",
    "        duped_barcodes.append(brand['barcode'])\n",
    "        \n",
    "    unique_barcodes.add(brand['barcode'])"
   ]
  },
  {
   "cell_type": "code",
   "execution_count": 23,
   "metadata": {},
   "outputs": [
    {
     "name": "stdout",
     "output_type": "stream",
     "text": [
      "The amount of brands: 1167\n",
      "The amount of unique barcodes: 1160\n"
     ]
    }
   ],
   "source": [
    "print(f\"The amount of brands: {len(brands)}\")\n",
    "print(f\"The amount of unique barcodes: {len(unique_barcodes)}\")"
   ]
  },
  {
   "cell_type": "code",
   "execution_count": 25,
   "metadata": {},
   "outputs": [
    {
     "name": "stdout",
     "output_type": "stream",
     "text": [
      "Items with the same barcode: 511111504139\n",
      "- CHRISXYZ / Chris Brand XYZ\n",
      "- PACE / Pace\n",
      "--------------------\n",
      "Items with the same barcode: 511111504788\n",
      "- TEST / test\n",
      "- PIONEER WOMAN / The Pioneer Woman\n",
      "--------------------\n",
      "Items with the same barcode: 511111204923\n",
      "- 0987654321 / Brand1\n",
      "- CHESTERS / CHESTER'S\n",
      "--------------------\n",
      "Items with the same barcode: 511111305125\n",
      "- CHRISIMAGE / Chris Image Test\n",
      "- 511111305125 / Rachael Ray Everyday\n",
      "--------------------\n",
      "Items with the same barcode: 511111605058\n",
      "- 511111605058 / Health Magazine\n",
      "- 09090909090 / Brand2\n",
      "--------------------\n",
      "Items with the same barcode: 511111704140\n",
      "- PREGO / Prego\n",
      "- DIETCHRIS2 / Diet Chris Cola\n",
      "--------------------\n",
      "Items with the same barcode: 511111004790\n",
      "- ALEXA / alexa\n",
      "- BITTEN / Bitten Dressing\n",
      "--------------------\n"
     ]
    }
   ],
   "source": [
    "for barcode in duped_barcodes:\n",
    "    print(f\"Items with the same barcode: {barcode}\")\n",
    "    for brand in brands:\n",
    "        if brand['barcode'] == barcode:\n",
    "            print(f\"- {brand['brandCode']} / {brand['name']}\")\n",
    "    print(\"--------------------\")"
   ]
  },
  {
   "cell_type": "markdown",
   "metadata": {},
   "source": [
    "Here, we can see that `barcode` is almost a unique key that we can use to connect `brands` and `receiptItems`.\n",
    "\n",
    "We're not using `brandCode` because of its non-uniqueness issue. I understand it may be technically challenging to have `brand_id` attached to the `receiptItems` considering how it is reliant on the scanning technology, which may or may not fetch the accurate data from the backend."
   ]
  },
  {
   "cell_type": "code",
   "execution_count": 29,
   "metadata": {},
   "outputs": [
    {
     "name": "stdout",
     "output_type": "stream",
     "text": [
      "The amount of receipt items with barcode: 3240\n",
      "The amount of receipt items without barcode: 3701\n"
     ]
    }
   ],
   "source": [
    "receipt_items_with_barcode = []\n",
    "receipt_items_without_barcode = []\n",
    "\n",
    "for receipt in receipts:\n",
    "    if 'rewardsReceiptItemList' in receipt:\n",
    "        for item in receipt['rewardsReceiptItemList']:\n",
    "            if 'barcode' in item or \\\n",
    "                'userFlaggedBarcode' in item or \\\n",
    "                'originalMetaBriteBarcode' in item:\n",
    "                receipt_items_with_barcode.append(item)\n",
    "            else:\n",
    "                receipt_items_without_barcode.append(item)\n",
    "\n",
    "print(f\"The amount of receipt items with barcode: {len(receipt_items_with_barcode)}\")\n",
    "print(f\"The amount of receipt items without barcode: {len(receipt_items_without_barcode)}\")"
   ]
  },
  {
   "cell_type": "markdown",
   "metadata": {},
   "source": [
    "The tradeoff of using `barcode` is that some `receiptItems` may not be parsed perfectly and thus missing that attribute. To be precise, more than half of the receipts are missing their `barcode`.\n",
    "\n",
    "We can also argue to include `userFlaggedBarcode` and `originalMetaBriteBarcode` as further deep dives tell that those two attributes have the potential to replace the original `barcode`."
   ]
  },
  {
   "cell_type": "markdown",
   "metadata": {},
   "source": [
    "### Deep Dive into Attributes of ReceiptItems"
   ]
  },
  {
   "cell_type": "code",
   "execution_count": 62,
   "metadata": {},
   "outputs": [],
   "source": [
    "receipts_finished = []\n",
    "receipts_flagged = []\n",
    "receipts_pending = []\n",
    "receipts_submitted = []\n",
    "receipts_rejected = []\n",
    "\n",
    "for receipt in receipts:\n",
    "    if 'rewardsReceiptStatus' in receipt:\n",
    "        if receipt['rewardsReceiptStatus'] == 'FLAGGED':\n",
    "            receipts_flagged.append(receipt)\n",
    "        if receipt['rewardsReceiptStatus'] == 'FINISHED':\n",
    "            receipts_finished.append(receipt)\n",
    "        if receipt['rewardsReceiptStatus'] == 'SUBMITTED':\n",
    "            receipts_submitted.append(receipt)\n",
    "        if receipt['rewardsReceiptStatus'] == 'REJECTED':\n",
    "            receipts_rejected.append(receipt)\n",
    "        if receipt['rewardsReceiptStatus'] == 'PENDING':\n",
    "            receipts_pending.append(receipt)"
   ]
  },
  {
   "cell_type": "code",
   "execution_count": 63,
   "metadata": {},
   "outputs": [
    {
     "name": "stdout",
     "output_type": "stream",
     "text": [
      "The amount of receipts flagged: 46\n",
      "The amount of receipts pending: 50\n",
      "The amount of receipts finished: 518\n",
      "The amount of receipts flagged: 46\n",
      "The amount of receipts rejected: 71\n"
     ]
    }
   ],
   "source": [
    "print(f\"The amount of receipts flagged: {len(receipts_flagged)}\")\n",
    "print(f\"The amount of receipts pending: {len(receipts_pending)}\")\n",
    "print(f\"The amount of receipts finished: {len(receipts_finished)}\")\n",
    "print(f\"The amount of receipts flagged: {len(receipts_flagged)}\")\n",
    "print(f\"The amount of receipts rejected: {len(receipts_rejected)}\")"
   ]
  },
  {
   "cell_type": "markdown",
   "metadata": {},
   "source": [
    "### Issue of Aggregating Points and Spendings\n",
    "\n",
    "Using the relational design that we have discussed in the first section of this assessment. To refresh, we're operating on `receiptItems` granularity and subsequently missing / removing some quantitative measures from the `receipts` level.\n",
    "\n",
    "For example, there are\"\n",
    "\n",
    "1. `pointsEarned`\n",
    "2. `totalSpent` \n",
    "\n",
    "in `receipts` objects but there are also:\n",
    "\n",
    "1. `pointsEarned`\n",
    "2. `finalPrice` or `itemPrice` \n",
    "\n",
    "in `receiptItems`. \n",
    "\n",
    "It's always a good idea to not muddle the fact table by combining two correlated attributes into one. Therefore, let's remove `pointsEarned` and `totalSpent`, and see if the aggregated correlated attributes in the `receiptItems` equal to the `receipts` level."
   ]
  },
  {
   "cell_type": "code",
   "execution_count": 31,
   "metadata": {},
   "outputs": [],
   "source": [
    "not_equal_spending = []\n",
    "\n",
    "for receipt in receipts:\n",
    "    spending = 0\n",
    "\n",
    "    if 'totalSpent' not in receipt:\n",
    "        continue\n",
    "\n",
    "    if 'rewardsReceiptItemList' in receipt:\n",
    "        for item in receipt['rewardsReceiptItemList']:\n",
    "            if 'finalPrice' in item:\n",
    "                spending = spending + float(item['finalPrice'])\n",
    "\n",
    "    if 'totalSpent' in receipt:\n",
    "        if spending != float(receipt['totalSpent']):\n",
    "            not_equal_spending.append(receipt)"
   ]
  },
  {
   "cell_type": "code",
   "execution_count": 32,
   "metadata": {},
   "outputs": [],
   "source": [
    "not_equal_points = []\n",
    "\n",
    "for receipt in receipts:\n",
    "    points = 0\n",
    "\n",
    "    if 'pointsEarned' not in receipt:\n",
    "        continue\n",
    "\n",
    "    if 'rewardsReceiptItemList' in receipt:\n",
    "        for item in receipt['rewardsReceiptItemList']:\n",
    "            if 'pointsEarned' in item:\n",
    "                points = points + float(item['pointsEarned'])\n",
    "\n",
    "    if 'pointsEarned' in receipt:\n",
    "        if points != float(receipt['pointsEarned']):\n",
    "            not_equal_points.append(receipt)"
   ]
  },
  {
   "cell_type": "code",
   "execution_count": 34,
   "metadata": {},
   "outputs": [
    {
     "name": "stdout",
     "output_type": "stream",
     "text": [
      "The amount of receipts with total points aggregated doesn't match: 548\n",
      "The amount of receipts with total spends aggregated doesn't match: 55\n"
     ]
    }
   ],
   "source": [
    "print(f\"The amount of receipts with total points aggregated doesn't match: {len(not_equal_points)}\")\n",
    "print(f\"The amount of receipts with total spends aggregated doesn't match: {len(not_equal_spending)}\")"
   ]
  },
  {
   "cell_type": "markdown",
   "metadata": {},
   "source": [
    "Since `pointsEarned` is not the main focus of the business questions, therefore, we can ignore it for now despite having a large amount of unequal aggregates.\n",
    "\n",
    "From the quick analysis, above, we see that there's a total of 55 receipts with total spending doesn't match the aggregated `finalPrice` in their corresponding `receiptItems`. Because of the low amount, let's go on with the removal of `receipts` level measures."
   ]
  },
  {
   "cell_type": "markdown",
   "metadata": {},
   "source": [
    "### Issue of Points and Price Missing"
   ]
  },
  {
   "cell_type": "code",
   "execution_count": 50,
   "metadata": {},
   "outputs": [],
   "source": [
    "missing_price_items = []\n",
    "missing_points_items = []\n",
    "missing_points_receipts = []\n",
    "price_measures_diff = []\n",
    "\n",
    "for receipt in receipts:\n",
    "    if 'pointsEarned' in receipt:\n",
    "        missing_points_receipts.append(receipt)\n",
    "\n",
    "    if 'rewardsReceiptItemList' in receipt:\n",
    "        for item in receipt['rewardsReceiptItemList']:\n",
    "            if 'finalPrice' in item and 'itemPrice' in item:\n",
    "                if item['finalPrice'] != item['itemPrice']:\n",
    "                    price_measures_diff.append(item)\n",
    "\n",
    "            if 'finalPrice' not in item:\n",
    "                missing_price_items.append(item)\n",
    "            if 'pointsEarned' not in item:\n",
    "                missing_points_items.append(item)"
   ]
  },
  {
   "cell_type": "code",
   "execution_count": 49,
   "metadata": {},
   "outputs": [
    {
     "name": "stdout",
     "output_type": "stream",
     "text": [
      "The amount of receipt items without price: 174\n",
      "The amount of receipt items without points: 6014\n"
     ]
    }
   ],
   "source": [
    "print(f\"The amount of receipt items without price: {len(missing_price_items)}\")\n",
    "print(f\"The amount of receipt items without points: {len(missing_points_items)}\")"
   ]
  },
  {
   "cell_type": "markdown",
   "metadata": {},
   "source": [
    "This is a further motivation to ignore points as of now. Moreover, there's only 174 receipt items without `finalPrice` attached to them, which is significantly low in proportion."
   ]
  },
  {
   "cell_type": "code",
   "execution_count": 51,
   "metadata": {},
   "outputs": [
    {
     "name": "stdout",
     "output_type": "stream",
     "text": [
      "The amount of receipt items without points: 609\n"
     ]
    }
   ],
   "source": [
    "print(f\"The amount of receipt items without points: {len(missing_points_receipts)}\")"
   ]
  },
  {
   "cell_type": "markdown",
   "metadata": {},
   "source": [
    "The amount of receipts without `pointsEarned` is significantly lower than their corresponding `receiptItems` and therefore if we're interested in studying points metric, we can use this measure on the `receipts` level."
   ]
  },
  {
   "cell_type": "markdown",
   "metadata": {},
   "source": [
    "### Issue of Different Price Measures"
   ]
  },
  {
   "cell_type": "code",
   "execution_count": 52,
   "metadata": {},
   "outputs": [
    {
     "name": "stdout",
     "output_type": "stream",
     "text": [
      "The amount of receipt items with different price measures: 4\n"
     ]
    }
   ],
   "source": [
    "print(f\"The amount of receipt items with different price measures: {len(price_measures_diff)}\")"
   ]
  },
  {
   "cell_type": "markdown",
   "metadata": {},
   "source": [
    "The amount of receipt items with different `finalPrice` and `itemPrice` is very low. Therefore, we can somewhat disregard this issue as a technical fluke and use only one measure in the OLAP."
   ]
  },
  {
   "cell_type": "markdown",
   "metadata": {},
   "source": []
  }
 ],
 "metadata": {
  "kernelspec": {
   "display_name": ".venv",
   "language": "python",
   "name": "python3"
  },
  "language_info": {
   "codemirror_mode": {
    "name": "ipython",
    "version": 3
   },
   "file_extension": ".py",
   "mimetype": "text/x-python",
   "name": "python",
   "nbconvert_exporter": "python",
   "pygments_lexer": "ipython3",
   "version": "3.10.9"
  }
 },
 "nbformat": 4,
 "nbformat_minor": 2
}
